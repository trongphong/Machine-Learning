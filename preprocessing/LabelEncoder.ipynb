{
 "cells": [
  {
   "cell_type": "code",
   "execution_count": 1,
   "id": "410db39f",
   "metadata": {
    "_cell_guid": "b1076dfc-b9ad-4769-8c92-a6c4dae69d19",
    "_uuid": "8f2839f25d086af736a60e9eeb907d3b93b6e0e5",
    "execution": {
     "iopub.execute_input": "2024-06-28T13:50:13.375179Z",
     "iopub.status.busy": "2024-06-28T13:50:13.374711Z",
     "iopub.status.idle": "2024-06-28T13:50:14.429991Z",
     "shell.execute_reply": "2024-06-28T13:50:14.428655Z"
    },
    "papermill": {
     "duration": 1.06882,
     "end_time": "2024-06-28T13:50:14.432900",
     "exception": false,
     "start_time": "2024-06-28T13:50:13.364080",
     "status": "completed"
    },
    "tags": []
   },
   "outputs": [
    {
     "name": "stdout",
     "output_type": "stream",
     "text": [
      "/kaggle/input/titanic/train.csv\n",
      "/kaggle/input/titanic/test.csv\n",
      "/kaggle/input/titanic/gender_submission.csv\n"
     ]
    }
   ],
   "source": [
    "# This Python 3 environment comes with many helpful analytics libraries installed\n",
    "# It is defined by the kaggle/python Docker image: https://github.com/kaggle/docker-python\n",
    "# For example, here's several helpful packages to load\n",
    "\n",
    "import numpy as np # linear algebra\n",
    "import pandas as pd # data processing, CSV file I/O (e.g. pd.read_csv)\n",
    "\n",
    "# Input data files are available in the read-only \"../input/\" directory\n",
    "# For example, running this (by clicking run or pressing Shift+Enter) will list all files under the input directory\n",
    "\n",
    "import os\n",
    "for dirname, _, filenames in os.walk('/kaggle/input'):\n",
    "    for filename in filenames:\n",
    "        print(os.path.join(dirname, filename))\n",
    "\n",
    "# You can write up to 20GB to the current directory (/kaggle/working/) that gets preserved as output when you create a version using \"Save & Run All\" \n",
    "# You can also write temporary files to /kaggle/temp/, but they won't be saved outside of the current session"
   ]
  },
  {
   "cell_type": "code",
   "execution_count": 2,
   "id": "7ddd1c10",
   "metadata": {
    "execution": {
     "iopub.execute_input": "2024-06-28T13:50:14.452812Z",
     "iopub.status.busy": "2024-06-28T13:50:14.451389Z",
     "iopub.status.idle": "2024-06-28T13:50:15.816881Z",
     "shell.execute_reply": "2024-06-28T13:50:15.815533Z"
    },
    "papermill": {
     "duration": 1.378504,
     "end_time": "2024-06-28T13:50:15.819836",
     "exception": false,
     "start_time": "2024-06-28T13:50:14.441332",
     "status": "completed"
    },
    "tags": []
   },
   "outputs": [],
   "source": [
    "import matplotlib.pyplot as plt\n",
    "import seaborn as sns"
   ]
  },
  {
   "cell_type": "code",
   "execution_count": 3,
   "id": "14689fbd",
   "metadata": {
    "execution": {
     "iopub.execute_input": "2024-06-28T13:50:15.837153Z",
     "iopub.status.busy": "2024-06-28T13:50:15.836778Z",
     "iopub.status.idle": "2024-06-28T13:50:15.865242Z",
     "shell.execute_reply": "2024-06-28T13:50:15.864038Z"
    },
    "papermill": {
     "duration": 0.039934,
     "end_time": "2024-06-28T13:50:15.867817",
     "exception": false,
     "start_time": "2024-06-28T13:50:15.827883",
     "status": "completed"
    },
    "tags": []
   },
   "outputs": [],
   "source": [
    "train=pd.read_csv('/kaggle/input/titanic/train.csv')\n",
    "test= pd.read_csv('/kaggle/input/titanic/test.csv')"
   ]
  },
  {
   "cell_type": "code",
   "execution_count": 4,
   "id": "a62f7a7d",
   "metadata": {
    "execution": {
     "iopub.execute_input": "2024-06-28T13:50:15.884594Z",
     "iopub.status.busy": "2024-06-28T13:50:15.884186Z",
     "iopub.status.idle": "2024-06-28T13:50:15.893321Z",
     "shell.execute_reply": "2024-06-28T13:50:15.892323Z"
    },
    "papermill": {
     "duration": 0.020148,
     "end_time": "2024-06-28T13:50:15.895685",
     "exception": false,
     "start_time": "2024-06-28T13:50:15.875537",
     "status": "completed"
    },
    "tags": []
   },
   "outputs": [
    {
     "data": {
      "text/plain": [
       "Index(['PassengerId', 'Survived', 'Pclass', 'Name', 'Sex', 'Age', 'SibSp',\n",
       "       'Parch', 'Ticket', 'Fare', 'Cabin', 'Embarked'],\n",
       "      dtype='object')"
      ]
     },
     "execution_count": 4,
     "metadata": {},
     "output_type": "execute_result"
    }
   ],
   "source": [
    "train.columns"
   ]
  },
  {
   "cell_type": "code",
   "execution_count": 5,
   "id": "4d1da6bd",
   "metadata": {
    "execution": {
     "iopub.execute_input": "2024-06-28T13:50:15.912842Z",
     "iopub.status.busy": "2024-06-28T13:50:15.912462Z",
     "iopub.status.idle": "2024-06-28T13:50:15.938958Z",
     "shell.execute_reply": "2024-06-28T13:50:15.937937Z"
    },
    "papermill": {
     "duration": 0.037863,
     "end_time": "2024-06-28T13:50:15.941432",
     "exception": false,
     "start_time": "2024-06-28T13:50:15.903569",
     "status": "completed"
    },
    "tags": []
   },
   "outputs": [
    {
     "data": {
      "text/html": [
       "<div>\n",
       "<style scoped>\n",
       "    .dataframe tbody tr th:only-of-type {\n",
       "        vertical-align: middle;\n",
       "    }\n",
       "\n",
       "    .dataframe tbody tr th {\n",
       "        vertical-align: top;\n",
       "    }\n",
       "\n",
       "    .dataframe thead th {\n",
       "        text-align: right;\n",
       "    }\n",
       "</style>\n",
       "<table border=\"1\" class=\"dataframe\">\n",
       "  <thead>\n",
       "    <tr style=\"text-align: right;\">\n",
       "      <th></th>\n",
       "      <th>PassengerId</th>\n",
       "      <th>Survived</th>\n",
       "      <th>Pclass</th>\n",
       "      <th>Name</th>\n",
       "      <th>Sex</th>\n",
       "      <th>Age</th>\n",
       "      <th>SibSp</th>\n",
       "      <th>Parch</th>\n",
       "      <th>Ticket</th>\n",
       "      <th>Fare</th>\n",
       "      <th>Cabin</th>\n",
       "      <th>Embarked</th>\n",
       "    </tr>\n",
       "  </thead>\n",
       "  <tbody>\n",
       "    <tr>\n",
       "      <th>0</th>\n",
       "      <td>1</td>\n",
       "      <td>0</td>\n",
       "      <td>3</td>\n",
       "      <td>Braund, Mr. Owen Harris</td>\n",
       "      <td>male</td>\n",
       "      <td>22.0</td>\n",
       "      <td>1</td>\n",
       "      <td>0</td>\n",
       "      <td>A/5 21171</td>\n",
       "      <td>7.2500</td>\n",
       "      <td>NaN</td>\n",
       "      <td>S</td>\n",
       "    </tr>\n",
       "    <tr>\n",
       "      <th>1</th>\n",
       "      <td>2</td>\n",
       "      <td>1</td>\n",
       "      <td>1</td>\n",
       "      <td>Cumings, Mrs. John Bradley (Florence Briggs Th...</td>\n",
       "      <td>female</td>\n",
       "      <td>38.0</td>\n",
       "      <td>1</td>\n",
       "      <td>0</td>\n",
       "      <td>PC 17599</td>\n",
       "      <td>71.2833</td>\n",
       "      <td>C85</td>\n",
       "      <td>C</td>\n",
       "    </tr>\n",
       "    <tr>\n",
       "      <th>2</th>\n",
       "      <td>3</td>\n",
       "      <td>1</td>\n",
       "      <td>3</td>\n",
       "      <td>Heikkinen, Miss. Laina</td>\n",
       "      <td>female</td>\n",
       "      <td>26.0</td>\n",
       "      <td>0</td>\n",
       "      <td>0</td>\n",
       "      <td>STON/O2. 3101282</td>\n",
       "      <td>7.9250</td>\n",
       "      <td>NaN</td>\n",
       "      <td>S</td>\n",
       "    </tr>\n",
       "    <tr>\n",
       "      <th>3</th>\n",
       "      <td>4</td>\n",
       "      <td>1</td>\n",
       "      <td>1</td>\n",
       "      <td>Futrelle, Mrs. Jacques Heath (Lily May Peel)</td>\n",
       "      <td>female</td>\n",
       "      <td>35.0</td>\n",
       "      <td>1</td>\n",
       "      <td>0</td>\n",
       "      <td>113803</td>\n",
       "      <td>53.1000</td>\n",
       "      <td>C123</td>\n",
       "      <td>S</td>\n",
       "    </tr>\n",
       "    <tr>\n",
       "      <th>4</th>\n",
       "      <td>5</td>\n",
       "      <td>0</td>\n",
       "      <td>3</td>\n",
       "      <td>Allen, Mr. William Henry</td>\n",
       "      <td>male</td>\n",
       "      <td>35.0</td>\n",
       "      <td>0</td>\n",
       "      <td>0</td>\n",
       "      <td>373450</td>\n",
       "      <td>8.0500</td>\n",
       "      <td>NaN</td>\n",
       "      <td>S</td>\n",
       "    </tr>\n",
       "  </tbody>\n",
       "</table>\n",
       "</div>"
      ],
      "text/plain": [
       "   PassengerId  Survived  Pclass  \\\n",
       "0            1         0       3   \n",
       "1            2         1       1   \n",
       "2            3         1       3   \n",
       "3            4         1       1   \n",
       "4            5         0       3   \n",
       "\n",
       "                                                Name     Sex   Age  SibSp  \\\n",
       "0                            Braund, Mr. Owen Harris    male  22.0      1   \n",
       "1  Cumings, Mrs. John Bradley (Florence Briggs Th...  female  38.0      1   \n",
       "2                             Heikkinen, Miss. Laina  female  26.0      0   \n",
       "3       Futrelle, Mrs. Jacques Heath (Lily May Peel)  female  35.0      1   \n",
       "4                           Allen, Mr. William Henry    male  35.0      0   \n",
       "\n",
       "   Parch            Ticket     Fare Cabin Embarked  \n",
       "0      0         A/5 21171   7.2500   NaN        S  \n",
       "1      0          PC 17599  71.2833   C85        C  \n",
       "2      0  STON/O2. 3101282   7.9250   NaN        S  \n",
       "3      0            113803  53.1000  C123        S  \n",
       "4      0            373450   8.0500   NaN        S  "
      ]
     },
     "execution_count": 5,
     "metadata": {},
     "output_type": "execute_result"
    }
   ],
   "source": [
    "train.head()"
   ]
  },
  {
   "cell_type": "code",
   "execution_count": 6,
   "id": "c1b24309",
   "metadata": {
    "execution": {
     "iopub.execute_input": "2024-06-28T13:50:15.959076Z",
     "iopub.status.busy": "2024-06-28T13:50:15.958688Z",
     "iopub.status.idle": "2024-06-28T13:50:15.984759Z",
     "shell.execute_reply": "2024-06-28T13:50:15.983531Z"
    },
    "papermill": {
     "duration": 0.037849,
     "end_time": "2024-06-28T13:50:15.987280",
     "exception": false,
     "start_time": "2024-06-28T13:50:15.949431",
     "status": "completed"
    },
    "tags": []
   },
   "outputs": [
    {
     "name": "stdout",
     "output_type": "stream",
     "text": [
      "<class 'pandas.core.frame.DataFrame'>\n",
      "RangeIndex: 891 entries, 0 to 890\n",
      "Data columns (total 12 columns):\n",
      " #   Column       Non-Null Count  Dtype  \n",
      "---  ------       --------------  -----  \n",
      " 0   PassengerId  891 non-null    int64  \n",
      " 1   Survived     891 non-null    int64  \n",
      " 2   Pclass       891 non-null    int64  \n",
      " 3   Name         891 non-null    object \n",
      " 4   Sex          891 non-null    object \n",
      " 5   Age          714 non-null    float64\n",
      " 6   SibSp        891 non-null    int64  \n",
      " 7   Parch        891 non-null    int64  \n",
      " 8   Ticket       891 non-null    object \n",
      " 9   Fare         891 non-null    float64\n",
      " 10  Cabin        204 non-null    object \n",
      " 11  Embarked     889 non-null    object \n",
      "dtypes: float64(2), int64(5), object(5)\n",
      "memory usage: 83.7+ KB\n"
     ]
    }
   ],
   "source": [
    "train.info()"
   ]
  },
  {
   "cell_type": "code",
   "execution_count": 7,
   "id": "aa3c5cce",
   "metadata": {
    "execution": {
     "iopub.execute_input": "2024-06-28T13:50:16.005296Z",
     "iopub.status.busy": "2024-06-28T13:50:16.004923Z",
     "iopub.status.idle": "2024-06-28T13:50:16.011502Z",
     "shell.execute_reply": "2024-06-28T13:50:16.010489Z"
    },
    "papermill": {
     "duration": 0.018016,
     "end_time": "2024-06-28T13:50:16.013618",
     "exception": false,
     "start_time": "2024-06-28T13:50:15.995602",
     "status": "completed"
    },
    "tags": []
   },
   "outputs": [
    {
     "data": {
      "text/plain": [
       "(418, 11)"
      ]
     },
     "execution_count": 7,
     "metadata": {},
     "output_type": "execute_result"
    }
   ],
   "source": [
    "test.shape"
   ]
  },
  {
   "cell_type": "code",
   "execution_count": 8,
   "id": "c13322b4",
   "metadata": {
    "execution": {
     "iopub.execute_input": "2024-06-28T13:50:16.033266Z",
     "iopub.status.busy": "2024-06-28T13:50:16.032278Z",
     "iopub.status.idle": "2024-06-28T13:50:16.042598Z",
     "shell.execute_reply": "2024-06-28T13:50:16.041343Z"
    },
    "papermill": {
     "duration": 0.022267,
     "end_time": "2024-06-28T13:50:16.044920",
     "exception": false,
     "start_time": "2024-06-28T13:50:16.022653",
     "status": "completed"
    },
    "tags": []
   },
   "outputs": [],
   "source": [
    "train=train.drop(['Cabin', 'Ticket'], axis=1)\n",
    "test=test.drop(['Cabin', 'Ticket'], axis=1)"
   ]
  },
  {
   "cell_type": "code",
   "execution_count": 9,
   "id": "59d38809",
   "metadata": {
    "execution": {
     "iopub.execute_input": "2024-06-28T13:50:16.062758Z",
     "iopub.status.busy": "2024-06-28T13:50:16.062355Z",
     "iopub.status.idle": "2024-06-28T13:50:16.076169Z",
     "shell.execute_reply": "2024-06-28T13:50:16.075137Z"
    },
    "papermill": {
     "duration": 0.025427,
     "end_time": "2024-06-28T13:50:16.078511",
     "exception": false,
     "start_time": "2024-06-28T13:50:16.053084",
     "status": "completed"
    },
    "tags": []
   },
   "outputs": [
    {
     "data": {
      "text/html": [
       "<div>\n",
       "<style scoped>\n",
       "    .dataframe tbody tr th:only-of-type {\n",
       "        vertical-align: middle;\n",
       "    }\n",
       "\n",
       "    .dataframe tbody tr th {\n",
       "        vertical-align: top;\n",
       "    }\n",
       "\n",
       "    .dataframe thead th {\n",
       "        text-align: right;\n",
       "    }\n",
       "</style>\n",
       "<table border=\"1\" class=\"dataframe\">\n",
       "  <thead>\n",
       "    <tr style=\"text-align: right;\">\n",
       "      <th></th>\n",
       "      <th>PassengerId</th>\n",
       "      <th>Pclass</th>\n",
       "      <th>Name</th>\n",
       "      <th>Sex</th>\n",
       "      <th>Age</th>\n",
       "      <th>SibSp</th>\n",
       "      <th>Parch</th>\n",
       "      <th>Fare</th>\n",
       "      <th>Embarked</th>\n",
       "    </tr>\n",
       "  </thead>\n",
       "  <tbody>\n",
       "    <tr>\n",
       "      <th>0</th>\n",
       "      <td>892</td>\n",
       "      <td>3</td>\n",
       "      <td>Kelly, Mr. James</td>\n",
       "      <td>male</td>\n",
       "      <td>34.5</td>\n",
       "      <td>0</td>\n",
       "      <td>0</td>\n",
       "      <td>7.8292</td>\n",
       "      <td>Q</td>\n",
       "    </tr>\n",
       "    <tr>\n",
       "      <th>1</th>\n",
       "      <td>893</td>\n",
       "      <td>3</td>\n",
       "      <td>Wilkes, Mrs. James (Ellen Needs)</td>\n",
       "      <td>female</td>\n",
       "      <td>47.0</td>\n",
       "      <td>1</td>\n",
       "      <td>0</td>\n",
       "      <td>7.0000</td>\n",
       "      <td>S</td>\n",
       "    </tr>\n",
       "    <tr>\n",
       "      <th>2</th>\n",
       "      <td>894</td>\n",
       "      <td>2</td>\n",
       "      <td>Myles, Mr. Thomas Francis</td>\n",
       "      <td>male</td>\n",
       "      <td>62.0</td>\n",
       "      <td>0</td>\n",
       "      <td>0</td>\n",
       "      <td>9.6875</td>\n",
       "      <td>Q</td>\n",
       "    </tr>\n",
       "    <tr>\n",
       "      <th>3</th>\n",
       "      <td>895</td>\n",
       "      <td>3</td>\n",
       "      <td>Wirz, Mr. Albert</td>\n",
       "      <td>male</td>\n",
       "      <td>27.0</td>\n",
       "      <td>0</td>\n",
       "      <td>0</td>\n",
       "      <td>8.6625</td>\n",
       "      <td>S</td>\n",
       "    </tr>\n",
       "    <tr>\n",
       "      <th>4</th>\n",
       "      <td>896</td>\n",
       "      <td>3</td>\n",
       "      <td>Hirvonen, Mrs. Alexander (Helga E Lindqvist)</td>\n",
       "      <td>female</td>\n",
       "      <td>22.0</td>\n",
       "      <td>1</td>\n",
       "      <td>1</td>\n",
       "      <td>12.2875</td>\n",
       "      <td>S</td>\n",
       "    </tr>\n",
       "  </tbody>\n",
       "</table>\n",
       "</div>"
      ],
      "text/plain": [
       "   PassengerId  Pclass                                          Name     Sex  \\\n",
       "0          892       3                              Kelly, Mr. James    male   \n",
       "1          893       3              Wilkes, Mrs. James (Ellen Needs)  female   \n",
       "2          894       2                     Myles, Mr. Thomas Francis    male   \n",
       "3          895       3                              Wirz, Mr. Albert    male   \n",
       "4          896       3  Hirvonen, Mrs. Alexander (Helga E Lindqvist)  female   \n",
       "\n",
       "    Age  SibSp  Parch     Fare Embarked  \n",
       "0  34.5      0      0   7.8292        Q  \n",
       "1  47.0      1      0   7.0000        S  \n",
       "2  62.0      0      0   9.6875        Q  \n",
       "3  27.0      0      0   8.6625        S  \n",
       "4  22.0      1      1  12.2875        S  "
      ]
     },
     "execution_count": 9,
     "metadata": {},
     "output_type": "execute_result"
    }
   ],
   "source": [
    "test.head()"
   ]
  },
  {
   "cell_type": "code",
   "execution_count": 10,
   "id": "f26a669a",
   "metadata": {
    "execution": {
     "iopub.execute_input": "2024-06-28T13:50:16.096686Z",
     "iopub.status.busy": "2024-06-28T13:50:16.096289Z",
     "iopub.status.idle": "2024-06-28T13:50:16.108030Z",
     "shell.execute_reply": "2024-06-28T13:50:16.106990Z"
    },
    "papermill": {
     "duration": 0.023459,
     "end_time": "2024-06-28T13:50:16.110367",
     "exception": false,
     "start_time": "2024-06-28T13:50:16.086908",
     "status": "completed"
    },
    "tags": []
   },
   "outputs": [],
   "source": [
    "train['Title']=train['Name'].str.extract(r'(\\w+)\\.')\n",
    "test['Title']=test['Name'].str.extract(r'(\\w+)\\.')"
   ]
  },
  {
   "cell_type": "code",
   "execution_count": 11,
   "id": "6ef44f1a",
   "metadata": {
    "execution": {
     "iopub.execute_input": "2024-06-28T13:50:16.128539Z",
     "iopub.status.busy": "2024-06-28T13:50:16.128163Z",
     "iopub.status.idle": "2024-06-28T13:50:16.137736Z",
     "shell.execute_reply": "2024-06-28T13:50:16.136530Z"
    },
    "papermill": {
     "duration": 0.021469,
     "end_time": "2024-06-28T13:50:16.140178",
     "exception": false,
     "start_time": "2024-06-28T13:50:16.118709",
     "status": "completed"
    },
    "tags": []
   },
   "outputs": [
    {
     "data": {
      "text/plain": [
       "Title\n",
       "Mr          517\n",
       "Miss        182\n",
       "Mrs         125\n",
       "Master       40\n",
       "Dr            7\n",
       "Rev           6\n",
       "Mlle          2\n",
       "Major         2\n",
       "Col           2\n",
       "Countess      1\n",
       "Capt          1\n",
       "Ms            1\n",
       "Sir           1\n",
       "Lady          1\n",
       "Mme           1\n",
       "Don           1\n",
       "Jonkheer      1\n",
       "Name: count, dtype: int64"
      ]
     },
     "execution_count": 11,
     "metadata": {},
     "output_type": "execute_result"
    }
   ],
   "source": [
    "train['Title'].value_counts()"
   ]
  },
  {
   "cell_type": "code",
   "execution_count": 12,
   "id": "59b7aeea",
   "metadata": {
    "execution": {
     "iopub.execute_input": "2024-06-28T13:50:16.159436Z",
     "iopub.status.busy": "2024-06-28T13:50:16.158607Z",
     "iopub.status.idle": "2024-06-28T13:50:16.173757Z",
     "shell.execute_reply": "2024-06-28T13:50:16.172728Z"
    },
    "papermill": {
     "duration": 0.027178,
     "end_time": "2024-06-28T13:50:16.176013",
     "exception": false,
     "start_time": "2024-06-28T13:50:16.148835",
     "status": "completed"
    },
    "tags": []
   },
   "outputs": [],
   "source": [
    "train['Title']=train['Title'].replace([ 'Lady','Don', 'Rev', 'Dr', 'Major','Col', 'Sir','Capt', 'Countess','Jonkheer'], 'rare')\n",
    "train['Title']=train['Title'].replace(['Mlle','Ms'], 'Mrs')\n",
    "train['Title']=train['Title'].replace('Mme', 'Miss')\n",
    "test['Title']=test['Title'].replace([ 'Lady','Don','Dona', 'Rev', 'Dr', 'Major','Col', 'Sir','Capt', 'Countess','Jonkheer'], 'rare')\n",
    "test['Title']=test['Title'].replace(['Mlle','Ms'], 'Mrs')\n",
    "test['Title']=test['Title'].replace('Mme', 'Miss')"
   ]
  },
  {
   "cell_type": "code",
   "execution_count": 13,
   "id": "cbda9737",
   "metadata": {
    "execution": {
     "iopub.execute_input": "2024-06-28T13:50:16.195080Z",
     "iopub.status.busy": "2024-06-28T13:50:16.194001Z",
     "iopub.status.idle": "2024-06-28T13:50:16.201355Z",
     "shell.execute_reply": "2024-06-28T13:50:16.200367Z"
    },
    "papermill": {
     "duration": 0.018987,
     "end_time": "2024-06-28T13:50:16.203551",
     "exception": false,
     "start_time": "2024-06-28T13:50:16.184564",
     "status": "completed"
    },
    "tags": []
   },
   "outputs": [
    {
     "data": {
      "text/plain": [
       "array(['Mr', 'Mrs', 'Miss', 'Master', 'rare'], dtype=object)"
      ]
     },
     "execution_count": 13,
     "metadata": {},
     "output_type": "execute_result"
    }
   ],
   "source": [
    "test['Title'].unique()"
   ]
  },
  {
   "cell_type": "code",
   "execution_count": 14,
   "id": "e943c8a6",
   "metadata": {
    "execution": {
     "iopub.execute_input": "2024-06-28T13:50:16.222740Z",
     "iopub.status.busy": "2024-06-28T13:50:16.221683Z",
     "iopub.status.idle": "2024-06-28T13:50:16.229207Z",
     "shell.execute_reply": "2024-06-28T13:50:16.228230Z"
    },
    "papermill": {
     "duration": 0.019372,
     "end_time": "2024-06-28T13:50:16.231430",
     "exception": false,
     "start_time": "2024-06-28T13:50:16.212058",
     "status": "completed"
    },
    "tags": []
   },
   "outputs": [
    {
     "data": {
      "text/plain": [
       "array(['Mr', 'Mrs', 'Miss', 'Master', 'rare'], dtype=object)"
      ]
     },
     "execution_count": 14,
     "metadata": {},
     "output_type": "execute_result"
    }
   ],
   "source": [
    "train['Title'].unique()"
   ]
  },
  {
   "cell_type": "code",
   "execution_count": 15,
   "id": "94ad4537",
   "metadata": {
    "execution": {
     "iopub.execute_input": "2024-06-28T13:50:16.250460Z",
     "iopub.status.busy": "2024-06-28T13:50:16.250079Z",
     "iopub.status.idle": "2024-06-28T13:50:16.258512Z",
     "shell.execute_reply": "2024-06-28T13:50:16.257452Z"
    },
    "papermill": {
     "duration": 0.020706,
     "end_time": "2024-06-28T13:50:16.260721",
     "exception": false,
     "start_time": "2024-06-28T13:50:16.240015",
     "status": "completed"
    },
    "tags": []
   },
   "outputs": [],
   "source": [
    "train=train.drop('Name', axis=1)\n",
    "test=test.drop('Name', axis=1)"
   ]
  },
  {
   "cell_type": "code",
   "execution_count": 16,
   "id": "ac877caa",
   "metadata": {
    "execution": {
     "iopub.execute_input": "2024-06-28T13:50:16.279876Z",
     "iopub.status.busy": "2024-06-28T13:50:16.279493Z",
     "iopub.status.idle": "2024-06-28T13:50:16.294131Z",
     "shell.execute_reply": "2024-06-28T13:50:16.293058Z"
    },
    "papermill": {
     "duration": 0.026758,
     "end_time": "2024-06-28T13:50:16.296184",
     "exception": false,
     "start_time": "2024-06-28T13:50:16.269426",
     "status": "completed"
    },
    "tags": []
   },
   "outputs": [
    {
     "data": {
      "text/html": [
       "<div>\n",
       "<style scoped>\n",
       "    .dataframe tbody tr th:only-of-type {\n",
       "        vertical-align: middle;\n",
       "    }\n",
       "\n",
       "    .dataframe tbody tr th {\n",
       "        vertical-align: top;\n",
       "    }\n",
       "\n",
       "    .dataframe thead th {\n",
       "        text-align: right;\n",
       "    }\n",
       "</style>\n",
       "<table border=\"1\" class=\"dataframe\">\n",
       "  <thead>\n",
       "    <tr style=\"text-align: right;\">\n",
       "      <th></th>\n",
       "      <th>PassengerId</th>\n",
       "      <th>Survived</th>\n",
       "      <th>Pclass</th>\n",
       "      <th>Sex</th>\n",
       "      <th>Age</th>\n",
       "      <th>SibSp</th>\n",
       "      <th>Parch</th>\n",
       "      <th>Fare</th>\n",
       "      <th>Embarked</th>\n",
       "      <th>Title</th>\n",
       "    </tr>\n",
       "  </thead>\n",
       "  <tbody>\n",
       "    <tr>\n",
       "      <th>0</th>\n",
       "      <td>1</td>\n",
       "      <td>0</td>\n",
       "      <td>3</td>\n",
       "      <td>male</td>\n",
       "      <td>22.0</td>\n",
       "      <td>1</td>\n",
       "      <td>0</td>\n",
       "      <td>7.2500</td>\n",
       "      <td>S</td>\n",
       "      <td>Mr</td>\n",
       "    </tr>\n",
       "    <tr>\n",
       "      <th>1</th>\n",
       "      <td>2</td>\n",
       "      <td>1</td>\n",
       "      <td>1</td>\n",
       "      <td>female</td>\n",
       "      <td>38.0</td>\n",
       "      <td>1</td>\n",
       "      <td>0</td>\n",
       "      <td>71.2833</td>\n",
       "      <td>C</td>\n",
       "      <td>Mrs</td>\n",
       "    </tr>\n",
       "    <tr>\n",
       "      <th>2</th>\n",
       "      <td>3</td>\n",
       "      <td>1</td>\n",
       "      <td>3</td>\n",
       "      <td>female</td>\n",
       "      <td>26.0</td>\n",
       "      <td>0</td>\n",
       "      <td>0</td>\n",
       "      <td>7.9250</td>\n",
       "      <td>S</td>\n",
       "      <td>Miss</td>\n",
       "    </tr>\n",
       "    <tr>\n",
       "      <th>3</th>\n",
       "      <td>4</td>\n",
       "      <td>1</td>\n",
       "      <td>1</td>\n",
       "      <td>female</td>\n",
       "      <td>35.0</td>\n",
       "      <td>1</td>\n",
       "      <td>0</td>\n",
       "      <td>53.1000</td>\n",
       "      <td>S</td>\n",
       "      <td>Mrs</td>\n",
       "    </tr>\n",
       "    <tr>\n",
       "      <th>4</th>\n",
       "      <td>5</td>\n",
       "      <td>0</td>\n",
       "      <td>3</td>\n",
       "      <td>male</td>\n",
       "      <td>35.0</td>\n",
       "      <td>0</td>\n",
       "      <td>0</td>\n",
       "      <td>8.0500</td>\n",
       "      <td>S</td>\n",
       "      <td>Mr</td>\n",
       "    </tr>\n",
       "  </tbody>\n",
       "</table>\n",
       "</div>"
      ],
      "text/plain": [
       "   PassengerId  Survived  Pclass     Sex   Age  SibSp  Parch     Fare  \\\n",
       "0            1         0       3    male  22.0      1      0   7.2500   \n",
       "1            2         1       1  female  38.0      1      0  71.2833   \n",
       "2            3         1       3  female  26.0      0      0   7.9250   \n",
       "3            4         1       1  female  35.0      1      0  53.1000   \n",
       "4            5         0       3    male  35.0      0      0   8.0500   \n",
       "\n",
       "  Embarked Title  \n",
       "0        S    Mr  \n",
       "1        C   Mrs  \n",
       "2        S  Miss  \n",
       "3        S   Mrs  \n",
       "4        S    Mr  "
      ]
     },
     "execution_count": 16,
     "metadata": {},
     "output_type": "execute_result"
    }
   ],
   "source": [
    "train.head()"
   ]
  },
  {
   "cell_type": "code",
   "execution_count": 17,
   "id": "d1f0ba0a",
   "metadata": {
    "execution": {
     "iopub.execute_input": "2024-06-28T13:50:16.315855Z",
     "iopub.status.busy": "2024-06-28T13:50:16.315477Z",
     "iopub.status.idle": "2024-06-28T13:50:16.566222Z",
     "shell.execute_reply": "2024-06-28T13:50:16.564982Z"
    },
    "papermill": {
     "duration": 0.263954,
     "end_time": "2024-06-28T13:50:16.569090",
     "exception": false,
     "start_time": "2024-06-28T13:50:16.305136",
     "status": "completed"
    },
    "tags": []
   },
   "outputs": [],
   "source": [
    "from sklearn.preprocessing import LabelEncoder"
   ]
  },
  {
   "cell_type": "markdown",
   "id": "edec1cac",
   "metadata": {
    "papermill": {
     "duration": 0.00906,
     "end_time": "2024-06-28T13:50:16.587218",
     "exception": false,
     "start_time": "2024-06-28T13:50:16.578158",
     "status": "completed"
    },
    "tags": []
   },
   "source": [
    "### Label Encoder"
   ]
  },
  {
   "cell_type": "code",
   "execution_count": 18,
   "id": "ae7f72c2",
   "metadata": {
    "execution": {
     "iopub.execute_input": "2024-06-28T13:50:16.606523Z",
     "iopub.status.busy": "2024-06-28T13:50:16.606127Z",
     "iopub.status.idle": "2024-06-28T13:50:16.610856Z",
     "shell.execute_reply": "2024-06-28T13:50:16.609826Z"
    },
    "papermill": {
     "duration": 0.016958,
     "end_time": "2024-06-28T13:50:16.613020",
     "exception": false,
     "start_time": "2024-06-28T13:50:16.596062",
     "status": "completed"
    },
    "tags": []
   },
   "outputs": [],
   "source": [
    "Enco=LabelEncoder()"
   ]
  },
  {
   "cell_type": "code",
   "execution_count": 19,
   "id": "25e51ee7",
   "metadata": {
    "execution": {
     "iopub.execute_input": "2024-06-28T13:50:16.632466Z",
     "iopub.status.busy": "2024-06-28T13:50:16.632093Z",
     "iopub.status.idle": "2024-06-28T13:50:16.639908Z",
     "shell.execute_reply": "2024-06-28T13:50:16.638670Z"
    },
    "papermill": {
     "duration": 0.020256,
     "end_time": "2024-06-28T13:50:16.642280",
     "exception": false,
     "start_time": "2024-06-28T13:50:16.622024",
     "status": "completed"
    },
    "tags": []
   },
   "outputs": [],
   "source": [
    "Enco.fit(train['Sex'])\n",
    "train['Sex']=Enco.transform(train['Sex'])\n",
    "test['Sex']=Enco.transform(test['Sex'])"
   ]
  },
  {
   "cell_type": "code",
   "execution_count": 20,
   "id": "cc9c1070",
   "metadata": {
    "execution": {
     "iopub.execute_input": "2024-06-28T13:50:16.662690Z",
     "iopub.status.busy": "2024-06-28T13:50:16.661338Z",
     "iopub.status.idle": "2024-06-28T13:50:16.669470Z",
     "shell.execute_reply": "2024-06-28T13:50:16.668216Z"
    },
    "papermill": {
     "duration": 0.02053,
     "end_time": "2024-06-28T13:50:16.671776",
     "exception": false,
     "start_time": "2024-06-28T13:50:16.651246",
     "status": "completed"
    },
    "tags": []
   },
   "outputs": [],
   "source": [
    "Enco.fit(train['Embarked'])\n",
    "train['Embarked']=Enco.transform(train['Embarked'])\n",
    "test['Embarked']=Enco.transform(test['Embarked'])"
   ]
  },
  {
   "cell_type": "code",
   "execution_count": 21,
   "id": "1774cd6a",
   "metadata": {
    "execution": {
     "iopub.execute_input": "2024-06-28T13:50:16.690961Z",
     "iopub.status.busy": "2024-06-28T13:50:16.690601Z",
     "iopub.status.idle": "2024-06-28T13:50:16.697436Z",
     "shell.execute_reply": "2024-06-28T13:50:16.696397Z"
    },
    "papermill": {
     "duration": 0.019038,
     "end_time": "2024-06-28T13:50:16.699707",
     "exception": false,
     "start_time": "2024-06-28T13:50:16.680669",
     "status": "completed"
    },
    "tags": []
   },
   "outputs": [],
   "source": [
    "Enco.fit(train['Title'])\n",
    "train['Title']=Enco.transform(train['Title'])\n",
    "test['Title']=Enco.transform(test['Title'])"
   ]
  },
  {
   "cell_type": "code",
   "execution_count": 22,
   "id": "5f738588",
   "metadata": {
    "execution": {
     "iopub.execute_input": "2024-06-28T13:50:16.718888Z",
     "iopub.status.busy": "2024-06-28T13:50:16.718498Z",
     "iopub.status.idle": "2024-06-28T13:50:16.733043Z",
     "shell.execute_reply": "2024-06-28T13:50:16.731967Z"
    },
    "papermill": {
     "duration": 0.026918,
     "end_time": "2024-06-28T13:50:16.735522",
     "exception": false,
     "start_time": "2024-06-28T13:50:16.708604",
     "status": "completed"
    },
    "tags": []
   },
   "outputs": [
    {
     "data": {
      "text/html": [
       "<div>\n",
       "<style scoped>\n",
       "    .dataframe tbody tr th:only-of-type {\n",
       "        vertical-align: middle;\n",
       "    }\n",
       "\n",
       "    .dataframe tbody tr th {\n",
       "        vertical-align: top;\n",
       "    }\n",
       "\n",
       "    .dataframe thead th {\n",
       "        text-align: right;\n",
       "    }\n",
       "</style>\n",
       "<table border=\"1\" class=\"dataframe\">\n",
       "  <thead>\n",
       "    <tr style=\"text-align: right;\">\n",
       "      <th></th>\n",
       "      <th>PassengerId</th>\n",
       "      <th>Survived</th>\n",
       "      <th>Pclass</th>\n",
       "      <th>Sex</th>\n",
       "      <th>Age</th>\n",
       "      <th>SibSp</th>\n",
       "      <th>Parch</th>\n",
       "      <th>Fare</th>\n",
       "      <th>Embarked</th>\n",
       "      <th>Title</th>\n",
       "    </tr>\n",
       "  </thead>\n",
       "  <tbody>\n",
       "    <tr>\n",
       "      <th>0</th>\n",
       "      <td>1</td>\n",
       "      <td>0</td>\n",
       "      <td>3</td>\n",
       "      <td>1</td>\n",
       "      <td>22.0</td>\n",
       "      <td>1</td>\n",
       "      <td>0</td>\n",
       "      <td>7.2500</td>\n",
       "      <td>2</td>\n",
       "      <td>2</td>\n",
       "    </tr>\n",
       "    <tr>\n",
       "      <th>1</th>\n",
       "      <td>2</td>\n",
       "      <td>1</td>\n",
       "      <td>1</td>\n",
       "      <td>0</td>\n",
       "      <td>38.0</td>\n",
       "      <td>1</td>\n",
       "      <td>0</td>\n",
       "      <td>71.2833</td>\n",
       "      <td>0</td>\n",
       "      <td>3</td>\n",
       "    </tr>\n",
       "    <tr>\n",
       "      <th>2</th>\n",
       "      <td>3</td>\n",
       "      <td>1</td>\n",
       "      <td>3</td>\n",
       "      <td>0</td>\n",
       "      <td>26.0</td>\n",
       "      <td>0</td>\n",
       "      <td>0</td>\n",
       "      <td>7.9250</td>\n",
       "      <td>2</td>\n",
       "      <td>1</td>\n",
       "    </tr>\n",
       "    <tr>\n",
       "      <th>3</th>\n",
       "      <td>4</td>\n",
       "      <td>1</td>\n",
       "      <td>1</td>\n",
       "      <td>0</td>\n",
       "      <td>35.0</td>\n",
       "      <td>1</td>\n",
       "      <td>0</td>\n",
       "      <td>53.1000</td>\n",
       "      <td>2</td>\n",
       "      <td>3</td>\n",
       "    </tr>\n",
       "    <tr>\n",
       "      <th>4</th>\n",
       "      <td>5</td>\n",
       "      <td>0</td>\n",
       "      <td>3</td>\n",
       "      <td>1</td>\n",
       "      <td>35.0</td>\n",
       "      <td>0</td>\n",
       "      <td>0</td>\n",
       "      <td>8.0500</td>\n",
       "      <td>2</td>\n",
       "      <td>2</td>\n",
       "    </tr>\n",
       "  </tbody>\n",
       "</table>\n",
       "</div>"
      ],
      "text/plain": [
       "   PassengerId  Survived  Pclass  Sex   Age  SibSp  Parch     Fare  Embarked  \\\n",
       "0            1         0       3    1  22.0      1      0   7.2500         2   \n",
       "1            2         1       1    0  38.0      1      0  71.2833         0   \n",
       "2            3         1       3    0  26.0      0      0   7.9250         2   \n",
       "3            4         1       1    0  35.0      1      0  53.1000         2   \n",
       "4            5         0       3    1  35.0      0      0   8.0500         2   \n",
       "\n",
       "   Title  \n",
       "0      2  \n",
       "1      3  \n",
       "2      1  \n",
       "3      3  \n",
       "4      2  "
      ]
     },
     "execution_count": 22,
     "metadata": {},
     "output_type": "execute_result"
    }
   ],
   "source": [
    "train.head()"
   ]
  },
  {
   "cell_type": "code",
   "execution_count": 23,
   "id": "9005de8c",
   "metadata": {
    "execution": {
     "iopub.execute_input": "2024-06-28T13:50:16.756225Z",
     "iopub.status.busy": "2024-06-28T13:50:16.755855Z",
     "iopub.status.idle": "2024-06-28T13:50:16.769396Z",
     "shell.execute_reply": "2024-06-28T13:50:16.768466Z"
    },
    "papermill": {
     "duration": 0.026525,
     "end_time": "2024-06-28T13:50:16.771778",
     "exception": false,
     "start_time": "2024-06-28T13:50:16.745253",
     "status": "completed"
    },
    "tags": []
   },
   "outputs": [
    {
     "data": {
      "text/html": [
       "<div>\n",
       "<style scoped>\n",
       "    .dataframe tbody tr th:only-of-type {\n",
       "        vertical-align: middle;\n",
       "    }\n",
       "\n",
       "    .dataframe tbody tr th {\n",
       "        vertical-align: top;\n",
       "    }\n",
       "\n",
       "    .dataframe thead th {\n",
       "        text-align: right;\n",
       "    }\n",
       "</style>\n",
       "<table border=\"1\" class=\"dataframe\">\n",
       "  <thead>\n",
       "    <tr style=\"text-align: right;\">\n",
       "      <th></th>\n",
       "      <th>PassengerId</th>\n",
       "      <th>Pclass</th>\n",
       "      <th>Sex</th>\n",
       "      <th>Age</th>\n",
       "      <th>SibSp</th>\n",
       "      <th>Parch</th>\n",
       "      <th>Fare</th>\n",
       "      <th>Embarked</th>\n",
       "      <th>Title</th>\n",
       "    </tr>\n",
       "  </thead>\n",
       "  <tbody>\n",
       "    <tr>\n",
       "      <th>0</th>\n",
       "      <td>892</td>\n",
       "      <td>3</td>\n",
       "      <td>1</td>\n",
       "      <td>34.5</td>\n",
       "      <td>0</td>\n",
       "      <td>0</td>\n",
       "      <td>7.8292</td>\n",
       "      <td>1</td>\n",
       "      <td>2</td>\n",
       "    </tr>\n",
       "    <tr>\n",
       "      <th>1</th>\n",
       "      <td>893</td>\n",
       "      <td>3</td>\n",
       "      <td>0</td>\n",
       "      <td>47.0</td>\n",
       "      <td>1</td>\n",
       "      <td>0</td>\n",
       "      <td>7.0000</td>\n",
       "      <td>2</td>\n",
       "      <td>3</td>\n",
       "    </tr>\n",
       "    <tr>\n",
       "      <th>2</th>\n",
       "      <td>894</td>\n",
       "      <td>2</td>\n",
       "      <td>1</td>\n",
       "      <td>62.0</td>\n",
       "      <td>0</td>\n",
       "      <td>0</td>\n",
       "      <td>9.6875</td>\n",
       "      <td>1</td>\n",
       "      <td>2</td>\n",
       "    </tr>\n",
       "    <tr>\n",
       "      <th>3</th>\n",
       "      <td>895</td>\n",
       "      <td>3</td>\n",
       "      <td>1</td>\n",
       "      <td>27.0</td>\n",
       "      <td>0</td>\n",
       "      <td>0</td>\n",
       "      <td>8.6625</td>\n",
       "      <td>2</td>\n",
       "      <td>2</td>\n",
       "    </tr>\n",
       "    <tr>\n",
       "      <th>4</th>\n",
       "      <td>896</td>\n",
       "      <td>3</td>\n",
       "      <td>0</td>\n",
       "      <td>22.0</td>\n",
       "      <td>1</td>\n",
       "      <td>1</td>\n",
       "      <td>12.2875</td>\n",
       "      <td>2</td>\n",
       "      <td>3</td>\n",
       "    </tr>\n",
       "  </tbody>\n",
       "</table>\n",
       "</div>"
      ],
      "text/plain": [
       "   PassengerId  Pclass  Sex   Age  SibSp  Parch     Fare  Embarked  Title\n",
       "0          892       3    1  34.5      0      0   7.8292         1      2\n",
       "1          893       3    0  47.0      1      0   7.0000         2      3\n",
       "2          894       2    1  62.0      0      0   9.6875         1      2\n",
       "3          895       3    1  27.0      0      0   8.6625         2      2\n",
       "4          896       3    0  22.0      1      1  12.2875         2      3"
      ]
     },
     "execution_count": 23,
     "metadata": {},
     "output_type": "execute_result"
    }
   ],
   "source": [
    "test.head()"
   ]
  },
  {
   "cell_type": "code",
   "execution_count": 24,
   "id": "c3fe4f67",
   "metadata": {
    "execution": {
     "iopub.execute_input": "2024-06-28T13:50:16.795138Z",
     "iopub.status.busy": "2024-06-28T13:50:16.794670Z",
     "iopub.status.idle": "2024-06-28T13:50:17.125693Z",
     "shell.execute_reply": "2024-06-28T13:50:17.124131Z"
    },
    "papermill": {
     "duration": 0.346355,
     "end_time": "2024-06-28T13:50:17.128847",
     "exception": false,
     "start_time": "2024-06-28T13:50:16.782492",
     "status": "completed"
    },
    "tags": []
   },
   "outputs": [],
   "source": [
    "from sklearn.impute import KNNImputer"
   ]
  },
  {
   "cell_type": "code",
   "execution_count": 25,
   "id": "2bef9d85",
   "metadata": {
    "execution": {
     "iopub.execute_input": "2024-06-28T13:50:17.150830Z",
     "iopub.status.busy": "2024-06-28T13:50:17.150285Z",
     "iopub.status.idle": "2024-06-28T13:50:17.205857Z",
     "shell.execute_reply": "2024-06-28T13:50:17.204302Z"
    },
    "papermill": {
     "duration": 0.070881,
     "end_time": "2024-06-28T13:50:17.209762",
     "exception": false,
     "start_time": "2024-06-28T13:50:17.138881",
     "status": "completed"
    },
    "tags": []
   },
   "outputs": [],
   "source": [
    "Imp=KNNImputer(n_neighbors=5)\n",
    "train[ ['Pclass', 'Sex', 'Age', 'Title']]=Imp.fit_transform(train[ ['Pclass', 'Sex', 'Age', 'Title']])\n",
    "test[ ['Pclass', 'Sex', 'Age', 'Title']]=Imp.fit_transform(test[ ['Pclass', 'Sex', 'Age', 'Title']])"
   ]
  },
  {
   "cell_type": "code",
   "execution_count": 26,
   "id": "a4304883",
   "metadata": {
    "execution": {
     "iopub.execute_input": "2024-06-28T13:50:17.244909Z",
     "iopub.status.busy": "2024-06-28T13:50:17.244076Z",
     "iopub.status.idle": "2024-06-28T13:50:17.260418Z",
     "shell.execute_reply": "2024-06-28T13:50:17.258983Z"
    },
    "papermill": {
     "duration": 0.038747,
     "end_time": "2024-06-28T13:50:17.264796",
     "exception": false,
     "start_time": "2024-06-28T13:50:17.226049",
     "status": "completed"
    },
    "tags": []
   },
   "outputs": [],
   "source": [
    "from sklearn.impute import SimpleImputer\n",
    "SimImp=SimpleImputer()\n",
    "test[['Fare']]=SimImp.fit_transform(test[['Fare']])"
   ]
  },
  {
   "cell_type": "code",
   "execution_count": 27,
   "id": "0681b2c8",
   "metadata": {
    "execution": {
     "iopub.execute_input": "2024-06-28T13:50:17.301290Z",
     "iopub.status.busy": "2024-06-28T13:50:17.300788Z",
     "iopub.status.idle": "2024-06-28T13:50:17.316680Z",
     "shell.execute_reply": "2024-06-28T13:50:17.315352Z"
    },
    "papermill": {
     "duration": 0.035957,
     "end_time": "2024-06-28T13:50:17.319694",
     "exception": false,
     "start_time": "2024-06-28T13:50:17.283737",
     "status": "completed"
    },
    "tags": []
   },
   "outputs": [
    {
     "name": "stdout",
     "output_type": "stream",
     "text": [
      "<class 'pandas.core.frame.DataFrame'>\n",
      "RangeIndex: 891 entries, 0 to 890\n",
      "Data columns (total 10 columns):\n",
      " #   Column       Non-Null Count  Dtype  \n",
      "---  ------       --------------  -----  \n",
      " 0   PassengerId  891 non-null    int64  \n",
      " 1   Survived     891 non-null    int64  \n",
      " 2   Pclass       891 non-null    float64\n",
      " 3   Sex          891 non-null    float64\n",
      " 4   Age          891 non-null    float64\n",
      " 5   SibSp        891 non-null    int64  \n",
      " 6   Parch        891 non-null    int64  \n",
      " 7   Fare         891 non-null    float64\n",
      " 8   Embarked     891 non-null    int64  \n",
      " 9   Title        891 non-null    float64\n",
      "dtypes: float64(5), int64(5)\n",
      "memory usage: 69.7 KB\n"
     ]
    }
   ],
   "source": [
    "train.info()"
   ]
  },
  {
   "cell_type": "code",
   "execution_count": 28,
   "id": "44a5a309",
   "metadata": {
    "execution": {
     "iopub.execute_input": "2024-06-28T13:50:17.341592Z",
     "iopub.status.busy": "2024-06-28T13:50:17.341084Z",
     "iopub.status.idle": "2024-06-28T13:50:17.358922Z",
     "shell.execute_reply": "2024-06-28T13:50:17.357552Z"
    },
    "papermill": {
     "duration": 0.031654,
     "end_time": "2024-06-28T13:50:17.361415",
     "exception": false,
     "start_time": "2024-06-28T13:50:17.329761",
     "status": "completed"
    },
    "tags": []
   },
   "outputs": [
    {
     "data": {
      "text/html": [
       "<div>\n",
       "<style scoped>\n",
       "    .dataframe tbody tr th:only-of-type {\n",
       "        vertical-align: middle;\n",
       "    }\n",
       "\n",
       "    .dataframe tbody tr th {\n",
       "        vertical-align: top;\n",
       "    }\n",
       "\n",
       "    .dataframe thead th {\n",
       "        text-align: right;\n",
       "    }\n",
       "</style>\n",
       "<table border=\"1\" class=\"dataframe\">\n",
       "  <thead>\n",
       "    <tr style=\"text-align: right;\">\n",
       "      <th></th>\n",
       "      <th>PassengerId</th>\n",
       "      <th>Survived</th>\n",
       "      <th>Pclass</th>\n",
       "      <th>Sex</th>\n",
       "      <th>Age</th>\n",
       "      <th>SibSp</th>\n",
       "      <th>Parch</th>\n",
       "      <th>Fare</th>\n",
       "      <th>Embarked</th>\n",
       "      <th>Title</th>\n",
       "    </tr>\n",
       "  </thead>\n",
       "  <tbody>\n",
       "    <tr>\n",
       "      <th>0</th>\n",
       "      <td>1</td>\n",
       "      <td>0</td>\n",
       "      <td>3.0</td>\n",
       "      <td>1.0</td>\n",
       "      <td>22.0</td>\n",
       "      <td>1</td>\n",
       "      <td>0</td>\n",
       "      <td>7.25</td>\n",
       "      <td>2</td>\n",
       "      <td>2.0</td>\n",
       "    </tr>\n",
       "  </tbody>\n",
       "</table>\n",
       "</div>"
      ],
      "text/plain": [
       "   PassengerId  Survived  Pclass  Sex   Age  SibSp  Parch  Fare  Embarked  \\\n",
       "0            1         0     3.0  1.0  22.0      1      0  7.25         2   \n",
       "\n",
       "   Title  \n",
       "0    2.0  "
      ]
     },
     "execution_count": 28,
     "metadata": {},
     "output_type": "execute_result"
    }
   ],
   "source": [
    "train.loc[[0]]"
   ]
  },
  {
   "cell_type": "code",
   "execution_count": 29,
   "id": "28bf29a5",
   "metadata": {
    "execution": {
     "iopub.execute_input": "2024-06-28T13:50:17.383693Z",
     "iopub.status.busy": "2024-06-28T13:50:17.383220Z",
     "iopub.status.idle": "2024-06-28T13:50:17.388574Z",
     "shell.execute_reply": "2024-06-28T13:50:17.387322Z"
    },
    "papermill": {
     "duration": 0.01925,
     "end_time": "2024-06-28T13:50:17.390934",
     "exception": false,
     "start_time": "2024-06-28T13:50:17.371684",
     "status": "completed"
    },
    "tags": []
   },
   "outputs": [],
   "source": [
    "from sklearn.svm import LinearSVC"
   ]
  },
  {
   "cell_type": "code",
   "execution_count": 30,
   "id": "4c43299e",
   "metadata": {
    "execution": {
     "iopub.execute_input": "2024-06-28T13:50:17.413181Z",
     "iopub.status.busy": "2024-06-28T13:50:17.412708Z",
     "iopub.status.idle": "2024-06-28T13:50:17.791760Z",
     "shell.execute_reply": "2024-06-28T13:50:17.790120Z"
    },
    "papermill": {
     "duration": 0.39274,
     "end_time": "2024-06-28T13:50:17.793960",
     "exception": true,
     "start_time": "2024-06-28T13:50:17.401220",
     "status": "failed"
    },
    "tags": []
   },
   "outputs": [
    {
     "ename": "NameError",
     "evalue": "name 'X_train' is not defined",
     "output_type": "error",
     "traceback": [
      "\u001b[0;31m---------------------------------------------------------------------------\u001b[0m",
      "\u001b[0;31mNameError\u001b[0m                                 Traceback (most recent call last)",
      "Cell \u001b[0;32mIn[30], line 2\u001b[0m\n\u001b[1;32m      1\u001b[0m SVM\u001b[38;5;241m=\u001b[39mLinearSVC(tol\u001b[38;5;241m=\u001b[39m\u001b[38;5;241m1e-7\u001b[39m)\n\u001b[0;32m----> 2\u001b[0m SVM\u001b[38;5;241m.\u001b[39mfit(\u001b[43mX_train\u001b[49m, y_train)\n\u001b[1;32m      3\u001b[0m y_pred_svm\u001b[38;5;241m=\u001b[39mSVM\u001b[38;5;241m.\u001b[39mpredict(X_train)\n",
      "\u001b[0;31mNameError\u001b[0m: name 'X_train' is not defined"
     ]
    }
   ],
   "source": [
    "SVM=LinearSVC(tol=1e-7)\n",
    "SVM.fit(X_train, y_train)\n",
    "y_pred_svm=SVM.predict(X_train)"
   ]
  },
  {
   "cell_type": "code",
   "execution_count": null,
   "id": "520fc071",
   "metadata": {
    "execution": {
     "iopub.execute_input": "2024-06-19T15:08:04.318043Z",
     "iopub.status.busy": "2024-06-19T15:08:04.317661Z",
     "iopub.status.idle": "2024-06-19T15:08:04.327346Z",
     "shell.execute_reply": "2024-06-19T15:08:04.326100Z",
     "shell.execute_reply.started": "2024-06-19T15:08:04.318015Z"
    },
    "papermill": {
     "duration": null,
     "end_time": null,
     "exception": null,
     "start_time": null,
     "status": "pending"
    },
    "tags": []
   },
   "outputs": [],
   "source": [
    "metrics.accuracy_score(y_train, y_pred_svm)"
   ]
  },
  {
   "cell_type": "code",
   "execution_count": null,
   "id": "9690da9f",
   "metadata": {
    "papermill": {
     "duration": null,
     "end_time": null,
     "exception": null,
     "start_time": null,
     "status": "pending"
    },
    "tags": []
   },
   "outputs": [],
   "source": []
  }
 ],
 "metadata": {
  "kaggle": {
   "accelerator": "none",
   "dataSources": [
    {
     "databundleVersionId": 26502,
     "sourceId": 3136,
     "sourceType": "competition"
    }
   ],
   "dockerImageVersionId": 30732,
   "isGpuEnabled": false,
   "isInternetEnabled": true,
   "language": "python",
   "sourceType": "notebook"
  },
  "kernelspec": {
   "display_name": "Python 3",
   "language": "python",
   "name": "python3"
  },
  "language_info": {
   "codemirror_mode": {
    "name": "ipython",
    "version": 3
   },
   "file_extension": ".py",
   "mimetype": "text/x-python",
   "name": "python",
   "nbconvert_exporter": "python",
   "pygments_lexer": "ipython3",
   "version": "3.10.13"
  },
  "papermill": {
   "default_parameters": {},
   "duration": 8.018413,
   "end_time": "2024-06-28T13:50:18.527751",
   "environment_variables": {},
   "exception": true,
   "input_path": "__notebook__.ipynb",
   "output_path": "__notebook__.ipynb",
   "parameters": {},
   "start_time": "2024-06-28T13:50:10.509338",
   "version": "2.5.0"
  }
 },
 "nbformat": 4,
 "nbformat_minor": 5
}
